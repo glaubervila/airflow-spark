{
 "cells": [
  {
   "cell_type": "code",
   "execution_count": 1,
   "metadata": {},
   "outputs": [],
   "source": [
    "from pyspark.sql import SparkSession"
   ]
  },
  {
   "cell_type": "code",
   "execution_count": 3,
   "metadata": {},
   "outputs": [
    {
     "name": "stderr",
     "output_type": "stream",
     "text": [
      "/home/airflow/.local/lib/python3.8/site-packages/pyspark/bin/load-spark-env.sh: line 68: ps: command not found\n",
      "Setting default log level to \"WARN\".\n",
      "To adjust logging level use sc.setLogLevel(newLevel). For SparkR, use setLogLevel(newLevel).\n",
      "24/03/25 17:50:21 WARN NativeCodeLoader: Unable to load native-hadoop library for your platform... using builtin-java classes where applicable\n"
     ]
    }
   ],
   "source": [
    "spark = SparkSession\\\n",
    "    .builder\\\n",
    "    .appName(\"twitter_silver\")\\\n",
    "    .getOrCreate()"
   ]
  },
  {
   "cell_type": "code",
   "execution_count": 4,
   "metadata": {},
   "outputs": [],
   "source": [
    "df_tweet = spark.read.json(\"/home/airflow/workspaces/airflow-spark/data/silver/twitter_datascience/tweet\")"
   ]
  },
  {
   "cell_type": "code",
   "execution_count": 5,
   "metadata": {},
   "outputs": [
    {
     "name": "stdout",
     "output_type": "stream",
     "text": [
      "root\n",
      " |-- author_id: string (nullable = true)\n",
      " |-- conversation_id: string (nullable = true)\n",
      " |-- created_at: string (nullable = true)\n",
      " |-- id: string (nullable = true)\n",
      " |-- like_count: long (nullable = true)\n",
      " |-- quote_count: long (nullable = true)\n",
      " |-- reply_count: long (nullable = true)\n",
      " |-- retweet_count: long (nullable = true)\n",
      " |-- text: string (nullable = true)\n",
      " |-- process_date: date (nullable = true)\n",
      "\n"
     ]
    }
   ],
   "source": [
    "df_tweet.printSchema()"
   ]
  },
  {
   "cell_type": "code",
   "execution_count": 6,
   "metadata": {},
   "outputs": [],
   "source": [
    "from pyspark.sql import functions as f"
   ]
  },
  {
   "cell_type": "code",
   "execution_count": 10,
   "metadata": {},
   "outputs": [],
   "source": [
    "tweet_conversas = df_tweet.alias(\"tweet\")\\\n",
    "                    .groupBy(f.to_date(\"created_at\").alias(\"created_date\"))\\\n",
    "                    .agg(\n",
    "                        f.countDistinct(\"author_id\").alias(\"n_tweets\"),\n",
    "                        f.sum(\"like_count\").alias(\"n_like\"),\n",
    "                        f.sum(\"quote_count\").alias(\"n_quote\"),\n",
    "                        f.sum(\"reply_count\").alias(\"n_reply\"),\n",
    "                        f.sum(\"retweet_count\").alias(\"n_retweet\")\n",
    "                    ).withColumn(\"weekday\", f.date_format(\"created_date\", \"E\"))"
   ]
  },
  {
   "cell_type": "code",
   "execution_count": 11,
   "metadata": {},
   "outputs": [
    {
     "name": "stdout",
     "output_type": "stream",
     "text": [
      "+------------+--------+------+-------+-------+---------+-------+\n",
      "|created_date|n_tweets|n_like|n_quote|n_reply|n_retweet|weekday|\n",
      "+------------+--------+------+-------+-------+---------+-------+\n",
      "|  2024-03-24|       6|   255|    282|    321|      230|    Sun|\n",
      "|  2024-03-25|       4|   201|    272|    170|      182|    Mon|\n",
      "+------------+--------+------+-------+-------+---------+-------+\n",
      "\n"
     ]
    }
   ],
   "source": [
    "tweet_conversas.show()"
   ]
  },
  {
   "cell_type": "code",
   "execution_count": 13,
   "metadata": {},
   "outputs": [
    {
     "name": "stdout",
     "output_type": "stream",
     "text": [
      "root\n",
      " |-- created_date: date (nullable = true)\n",
      " |-- n_tweets: long (nullable = false)\n",
      " |-- n_like: long (nullable = true)\n",
      " |-- n_quote: long (nullable = true)\n",
      " |-- n_reply: long (nullable = true)\n",
      " |-- n_retweet: long (nullable = true)\n",
      " |-- weekday: string (nullable = true)\n",
      "\n"
     ]
    }
   ],
   "source": [
    "tweet_conversas.printSchema()"
   ]
  }
 ],
 "metadata": {
  "kernelspec": {
   "display_name": "Python 3",
   "language": "python",
   "name": "python3"
  },
  "language_info": {
   "codemirror_mode": {
    "name": "ipython",
    "version": 3
   },
   "file_extension": ".py",
   "mimetype": "text/x-python",
   "name": "python",
   "nbconvert_exporter": "python",
   "pygments_lexer": "ipython3",
   "version": "3.8.18"
  }
 },
 "nbformat": 4,
 "nbformat_minor": 2
}
